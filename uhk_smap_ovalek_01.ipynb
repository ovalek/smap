{
 "cells": [
  {
   "cell_type": "markdown",
   "metadata": {},
   "source": [
    "# UHK SMAP ovalek 01"
   ]
  },
  {
   "cell_type": "code",
   "execution_count": 1,
   "metadata": {},
   "outputs": [
    {
     "name": "stdout",
     "output_type": "stream",
     "text": [
      "Defaulting to user installation because normal site-packages is not writeable\n",
      "Requirement already satisfied: numpy in /usr/lib64/python3.10/site-packages (1.22.0)\n",
      "Requirement already satisfied: pandas in /home/ovalek/.local/lib/python3.10/site-packages (1.5.2)\n",
      "Requirement already satisfied: tensorflow in /home/ovalek/.local/lib/python3.10/site-packages (2.11.0)\n",
      "Requirement already satisfied: tensorflow_datasets in /home/ovalek/.local/lib/python3.10/site-packages (4.7.0)\n",
      "Requirement already satisfied: scikit-learn in /home/ovalek/.local/lib/python3.10/site-packages (1.2.0)\n",
      "Requirement already satisfied: scipy in /home/ovalek/.local/lib/python3.10/site-packages (1.9.3)\n",
      "Requirement already satisfied: matplotlib in /home/ovalek/.local/lib/python3.10/site-packages (3.6.2)\n",
      "Requirement already satisfied: tensorflow_io in /home/ovalek/.local/lib/python3.10/site-packages (0.28.0)\n",
      "Requirement already satisfied: pytz>=2020.1 in /usr/lib/python3.10/site-packages (from pandas) (2022.6)\n",
      "Requirement already satisfied: python-dateutil>=2.8.1 in /home/ovalek/.local/lib/python3.10/site-packages (from pandas) (2.8.2)\n",
      "Requirement already satisfied: h5py>=2.9.0 in /home/ovalek/.local/lib/python3.10/site-packages (from tensorflow) (3.7.0)\n",
      "Requirement already satisfied: protobuf<3.20,>=3.9.2 in /home/ovalek/.local/lib/python3.10/site-packages (from tensorflow) (3.19.6)\n",
      "Requirement already satisfied: opt-einsum>=2.3.2 in /home/ovalek/.local/lib/python3.10/site-packages (from tensorflow) (3.3.0)\n",
      "Requirement already satisfied: termcolor>=1.1.0 in /home/ovalek/.local/lib/python3.10/site-packages (from tensorflow) (2.1.1)\n",
      "Requirement already satisfied: tensorflow-estimator<2.12,>=2.11.0 in /home/ovalek/.local/lib/python3.10/site-packages (from tensorflow) (2.11.0)\n",
      "Requirement already satisfied: libclang>=13.0.0 in /home/ovalek/.local/lib/python3.10/site-packages (from tensorflow) (14.0.6)\n",
      "Requirement already satisfied: absl-py>=1.0.0 in /home/ovalek/.local/lib/python3.10/site-packages (from tensorflow) (1.3.0)\n",
      "Requirement already satisfied: tensorflow-io-gcs-filesystem>=0.23.1 in /home/ovalek/.local/lib/python3.10/site-packages (from tensorflow) (0.28.0)\n",
      "Requirement already satisfied: wrapt>=1.11.0 in /home/ovalek/.local/lib/python3.10/site-packages (from tensorflow) (1.14.1)\n",
      "Requirement already satisfied: gast<=0.4.0,>=0.2.1 in /home/ovalek/.local/lib/python3.10/site-packages (from tensorflow) (0.4.0)\n",
      "Requirement already satisfied: six>=1.12.0 in /usr/lib/python3.10/site-packages (from tensorflow) (1.16.0)\n",
      "Requirement already satisfied: packaging in /usr/lib/python3.10/site-packages (from tensorflow) (21.3)\n",
      "Requirement already satisfied: flatbuffers>=2.0 in /home/ovalek/.local/lib/python3.10/site-packages (from tensorflow) (22.12.6)\n",
      "Requirement already satisfied: google-pasta>=0.1.1 in /home/ovalek/.local/lib/python3.10/site-packages (from tensorflow) (0.2.0)\n",
      "Requirement already satisfied: astunparse>=1.6.0 in /home/ovalek/.local/lib/python3.10/site-packages (from tensorflow) (1.6.3)\n",
      "Requirement already satisfied: tensorboard<2.12,>=2.11 in /home/ovalek/.local/lib/python3.10/site-packages (from tensorflow) (2.11.0)\n",
      "Requirement already satisfied: keras<2.12,>=2.11.0 in /home/ovalek/.local/lib/python3.10/site-packages (from tensorflow) (2.11.0)\n",
      "Requirement already satisfied: setuptools in /usr/lib/python3.10/site-packages (from tensorflow) (59.6.0)\n",
      "Requirement already satisfied: grpcio<2.0,>=1.24.3 in /home/ovalek/.local/lib/python3.10/site-packages (from tensorflow) (1.51.1)\n",
      "Requirement already satisfied: typing-extensions>=3.6.6 in /home/ovalek/.local/lib/python3.10/site-packages (from tensorflow) (4.4.0)\n",
      "Requirement already satisfied: toml in /home/ovalek/.local/lib/python3.10/site-packages (from tensorflow_datasets) (0.10.2)\n",
      "Requirement already satisfied: dill in /home/ovalek/.local/lib/python3.10/site-packages (from tensorflow_datasets) (0.3.6)\n",
      "Requirement already satisfied: requests>=2.19.0 in /usr/lib/python3.10/site-packages (from tensorflow_datasets) (2.27.1)\n",
      "Requirement already satisfied: tensorflow-metadata in /home/ovalek/.local/lib/python3.10/site-packages (from tensorflow_datasets) (1.12.0)\n",
      "Requirement already satisfied: tqdm in /usr/lib/python3.10/site-packages (from tensorflow_datasets) (4.64.1)\n",
      "Requirement already satisfied: promise in /home/ovalek/.local/lib/python3.10/site-packages (from tensorflow_datasets) (2.3)\n",
      "Requirement already satisfied: etils[epath] in /home/ovalek/.local/lib/python3.10/site-packages (from tensorflow_datasets) (0.9.0)\n",
      "Requirement already satisfied: joblib>=1.1.1 in /home/ovalek/.local/lib/python3.10/site-packages (from scikit-learn) (1.2.0)\n",
      "Requirement already satisfied: threadpoolctl>=2.0.0 in /home/ovalek/.local/lib/python3.10/site-packages (from scikit-learn) (3.1.0)\n",
      "Requirement already satisfied: kiwisolver>=1.0.1 in /home/ovalek/.local/lib/python3.10/site-packages (from matplotlib) (1.4.4)\n",
      "Requirement already satisfied: pillow>=6.2.0 in /usr/lib64/python3.10/site-packages (from matplotlib) (9.1.0)\n",
      "Requirement already satisfied: cycler>=0.10 in /home/ovalek/.local/lib/python3.10/site-packages (from matplotlib) (0.11.0)\n",
      "Requirement already satisfied: fonttools>=4.22.0 in /home/ovalek/.local/lib/python3.10/site-packages (from matplotlib) (4.38.0)\n",
      "Requirement already satisfied: contourpy>=1.0.1 in /home/ovalek/.local/lib/python3.10/site-packages (from matplotlib) (1.0.6)\n",
      "Requirement already satisfied: pyparsing>=2.2.1 in /usr/lib/python3.10/site-packages (from matplotlib) (2.4.7)\n",
      "Requirement already satisfied: wheel<1.0,>=0.23.0 in /home/ovalek/.local/lib/python3.10/site-packages (from astunparse>=1.6.0->tensorflow) (0.38.4)\n",
      "Requirement already satisfied: urllib3<1.27,>=1.21.1 in /usr/lib/python3.10/site-packages (from requests>=2.19.0->tensorflow_datasets) (1.26.12)\n",
      "Requirement already satisfied: idna<4,>=2.5 in /usr/lib/python3.10/site-packages (from requests>=2.19.0->tensorflow_datasets) (3.3)\n",
      "Requirement already satisfied: charset-normalizer~=2.0.0 in /usr/lib/python3.10/site-packages (from requests>=2.19.0->tensorflow_datasets) (2.0.11)\n",
      "Requirement already satisfied: google-auth-oauthlib<0.5,>=0.4.1 in /home/ovalek/.local/lib/python3.10/site-packages (from tensorboard<2.12,>=2.11->tensorflow) (0.4.6)\n",
      "Requirement already satisfied: tensorboard-plugin-wit>=1.6.0 in /home/ovalek/.local/lib/python3.10/site-packages (from tensorboard<2.12,>=2.11->tensorflow) (1.8.1)\n",
      "Requirement already satisfied: werkzeug>=1.0.1 in /home/ovalek/.local/lib/python3.10/site-packages (from tensorboard<2.12,>=2.11->tensorflow) (2.2.2)\n",
      "Requirement already satisfied: google-auth<3,>=1.6.3 in /home/ovalek/.local/lib/python3.10/site-packages (from tensorboard<2.12,>=2.11->tensorflow) (2.15.0)\n",
      "Requirement already satisfied: tensorboard-data-server<0.7.0,>=0.6.0 in /home/ovalek/.local/lib/python3.10/site-packages (from tensorboard<2.12,>=2.11->tensorflow) (0.6.1)\n",
      "Requirement already satisfied: markdown>=2.6.8 in /home/ovalek/.local/lib/python3.10/site-packages (from tensorboard<2.12,>=2.11->tensorflow) (3.4.1)\n",
      "Requirement already satisfied: importlib_resources in /home/ovalek/.local/lib/python3.10/site-packages (from etils[epath]->tensorflow_datasets) (5.10.1)\n",
      "Requirement already satisfied: zipp in /home/ovalek/.local/lib/python3.10/site-packages (from etils[epath]->tensorflow_datasets) (3.11.0)\n",
      "Requirement already satisfied: googleapis-common-protos<2,>=1.52.0 in /home/ovalek/.local/lib/python3.10/site-packages (from tensorflow-metadata->tensorflow_datasets) (1.57.0)\n",
      "Requirement already satisfied: pyasn1-modules>=0.2.1 in /home/ovalek/.local/lib/python3.10/site-packages (from google-auth<3,>=1.6.3->tensorboard<2.12,>=2.11->tensorflow) (0.2.8)\n",
      "Requirement already satisfied: cachetools<6.0,>=2.0.0 in /home/ovalek/.local/lib/python3.10/site-packages (from google-auth<3,>=1.6.3->tensorboard<2.12,>=2.11->tensorflow) (5.2.0)\n",
      "Requirement already satisfied: rsa<5,>=3.1.4 in /home/ovalek/.local/lib/python3.10/site-packages (from google-auth<3,>=1.6.3->tensorboard<2.12,>=2.11->tensorflow) (4.9)\n",
      "Requirement already satisfied: requests-oauthlib>=0.7.0 in /home/ovalek/.local/lib/python3.10/site-packages (from google-auth-oauthlib<0.5,>=0.4.1->tensorboard<2.12,>=2.11->tensorflow) (1.3.1)\n",
      "Requirement already satisfied: MarkupSafe>=2.1.1 in /home/ovalek/.local/lib/python3.10/site-packages (from werkzeug>=1.0.1->tensorboard<2.12,>=2.11->tensorflow) (2.1.1)\n",
      "Requirement already satisfied: pyasn1<0.5.0,>=0.4.6 in /home/ovalek/.local/lib/python3.10/site-packages (from pyasn1-modules>=0.2.1->google-auth<3,>=1.6.3->tensorboard<2.12,>=2.11->tensorflow) (0.4.8)\n",
      "Requirement already satisfied: oauthlib>=3.0.0 in /home/ovalek/.local/lib/python3.10/site-packages (from requests-oauthlib>=0.7.0->google-auth-oauthlib<0.5,>=0.4.1->tensorboard<2.12,>=2.11->tensorflow) (3.2.2)\n",
      "Note: you may need to restart the kernel to use updated packages.\n"
     ]
    }
   ],
   "source": [
    "# install packages\n",
    "%pip install numpy pandas tensorflow tensorflow_datasets scikit-learn scipy matplotlib tensorflow_io"
   ]
  },
  {
   "cell_type": "code",
   "execution_count": 2,
   "metadata": {},
   "outputs": [
    {
     "name": "stdout",
     "output_type": "stream",
     "text": [
      "['small', 'photos_sanitized.csv', 'parameters_products_color_sanitized.csv', 'tmp_dataset', 'result_01.txt', 'parameters_list_sanitized.csv', 'parameters_products_pattern_sanitized.csv', 'output_accuracy_01.png']\n"
     ]
    }
   ],
   "source": [
    "import numpy as np\n",
    "import pandas as pd\n",
    "import os\n",
    "print(os.listdir(\"./data\"))"
   ]
  },
  {
   "cell_type": "code",
   "execution_count": 3,
   "metadata": {},
   "outputs": [
    {
     "name": "stderr",
     "output_type": "stream",
     "text": [
      "2022-12-14 11:27:02.250369: I tensorflow/core/platform/cpu_feature_guard.cc:193] This TensorFlow binary is optimized with oneAPI Deep Neural Network Library (oneDNN) to use the following CPU instructions in performance-critical operations:  AVX2 FMA\n",
      "To enable them in other operations, rebuild TensorFlow with the appropriate compiler flags.\n",
      "2022-12-14 11:27:02.506616: W tensorflow/compiler/xla/stream_executor/platform/default/dso_loader.cc:64] Could not load dynamic library 'libcudart.so.11.0'; dlerror: libcudart.so.11.0: cannot open shared object file: No such file or directory\n",
      "2022-12-14 11:27:02.506634: I tensorflow/compiler/xla/stream_executor/cuda/cudart_stub.cc:29] Ignore above cudart dlerror if you do not have a GPU set up on your machine.\n",
      "2022-12-14 11:27:03.317893: W tensorflow/compiler/xla/stream_executor/platform/default/dso_loader.cc:64] Could not load dynamic library 'libnvinfer.so.7'; dlerror: libnvinfer.so.7: cannot open shared object file: No such file or directory\n",
      "2022-12-14 11:27:03.317950: W tensorflow/compiler/xla/stream_executor/platform/default/dso_loader.cc:64] Could not load dynamic library 'libnvinfer_plugin.so.7'; dlerror: libnvinfer_plugin.so.7: cannot open shared object file: No such file or directory\n",
      "2022-12-14 11:27:03.317955: W tensorflow/compiler/tf2tensorrt/utils/py_utils.cc:38] TF-TRT Warning: Cannot dlopen some TensorRT libraries. If you would like to use Nvidia GPU with TensorRT, please make sure the missing libraries mentioned above are installed properly.\n"
     ]
    },
    {
     "name": "stdout",
     "output_type": "stream",
     "text": [
      "Num GPUs Available:  0\n"
     ]
    },
    {
     "name": "stderr",
     "output_type": "stream",
     "text": [
      "2022-12-14 11:27:04.249325: I tensorflow/compiler/xla/stream_executor/cuda/cuda_gpu_executor.cc:981] successful NUMA node read from SysFS had negative value (-1), but there must be at least one NUMA node, so returning NUMA node zero\n",
      "2022-12-14 11:27:04.249546: W tensorflow/compiler/xla/stream_executor/platform/default/dso_loader.cc:64] Could not load dynamic library 'libcudart.so.11.0'; dlerror: libcudart.so.11.0: cannot open shared object file: No such file or directory\n",
      "2022-12-14 11:27:04.249602: W tensorflow/compiler/xla/stream_executor/platform/default/dso_loader.cc:64] Could not load dynamic library 'libcublas.so.11'; dlerror: libcublas.so.11: cannot open shared object file: No such file or directory\n",
      "2022-12-14 11:27:04.249638: W tensorflow/compiler/xla/stream_executor/platform/default/dso_loader.cc:64] Could not load dynamic library 'libcublasLt.so.11'; dlerror: libcublasLt.so.11: cannot open shared object file: No such file or directory\n",
      "2022-12-14 11:27:04.249673: W tensorflow/compiler/xla/stream_executor/platform/default/dso_loader.cc:64] Could not load dynamic library 'libcufft.so.10'; dlerror: libcufft.so.10: cannot open shared object file: No such file or directory\n",
      "2022-12-14 11:27:04.249706: W tensorflow/compiler/xla/stream_executor/platform/default/dso_loader.cc:64] Could not load dynamic library 'libcurand.so.10'; dlerror: libcurand.so.10: cannot open shared object file: No such file or directory\n",
      "2022-12-14 11:27:04.249740: W tensorflow/compiler/xla/stream_executor/platform/default/dso_loader.cc:64] Could not load dynamic library 'libcusolver.so.11'; dlerror: libcusolver.so.11: cannot open shared object file: No such file or directory\n",
      "2022-12-14 11:27:04.249774: W tensorflow/compiler/xla/stream_executor/platform/default/dso_loader.cc:64] Could not load dynamic library 'libcusparse.so.11'; dlerror: libcusparse.so.11: cannot open shared object file: No such file or directory\n",
      "2022-12-14 11:27:04.249807: W tensorflow/compiler/xla/stream_executor/platform/default/dso_loader.cc:64] Could not load dynamic library 'libcudnn.so.8'; dlerror: libcudnn.so.8: cannot open shared object file: No such file or directory\n",
      "2022-12-14 11:27:04.249816: W tensorflow/core/common_runtime/gpu/gpu_device.cc:1934] Cannot dlopen some GPU libraries. Please make sure the missing libraries mentioned above are installed properly if you would like to use GPU. Follow the guide at https://www.tensorflow.org/install/gpu for how to download and setup the required libraries for your platform.\n",
      "Skipping registering GPU devices...\n"
     ]
    }
   ],
   "source": [
    "import tensorflow as tf\n",
    "# check GPU\n",
    "print(\"Num GPUs Available: \", len(tf.config.list_physical_devices('GPU')))"
   ]
  },
  {
   "cell_type": "markdown",
   "metadata": {},
   "source": [
    "## Load data"
   ]
  },
  {
   "cell_type": "code",
   "execution_count": 4,
   "metadata": {},
   "outputs": [
    {
     "name": "stdout",
     "output_type": "stream",
     "text": [
      "Column names are id_product, id_photo, date_update, position, show_in_lead\n",
      "Processed 16161 lines.\n",
      "Found products <method-wrapper '__len__' of list object at 0x7f374153dcc0>.\n"
     ]
    }
   ],
   "source": [
    "import csv\n",
    "import numpy as np\n",
    "import os\n",
    "import PIL\n",
    "import PIL.Image\n",
    "\n",
    "# load labels\n",
    "label_ids = []\n",
    "label_names = []\n",
    "with open('./data/parameters_list_sanitized.csv') as csv_file:\n",
    "    csv_reader = csv.reader(csv_file, delimiter=',')\n",
    "    line_count = 0\n",
    "    for row in csv_reader:\n",
    "        if line_count == 0:\n",
    "            line_count += 1\n",
    "            continue\n",
    "        else:\n",
    "            line_count += 1\n",
    "            if not row[0] in label_ids:\n",
    "                label_ids += [row[0]]\n",
    "                label_names += [row[2]]\n",
    "\n",
    "# load product label relations\n",
    "products_labels = {}\n",
    "with open('./data/parameters_products_color_sanitized.csv') as csv_file:\n",
    "    csv_reader = csv.reader(csv_file, delimiter=',')\n",
    "    line_count = 0\n",
    "    for row in csv_reader:\n",
    "        if line_count == 0:\n",
    "            line_count += 1\n",
    "            continue\n",
    "        else:\n",
    "            line_count += 1\n",
    "            if not row[0] in products_labels:\n",
    "                products_labels[row[0]] = []\n",
    "            for label_index, label_id in enumerate(label_ids):\n",
    "                if label_id == row[2]:\n",
    "                    products_labels[row[0]] += [label_names[label_index]]\n",
    "with open('./data/parameters_products_pattern_sanitized.csv') as csv_file:\n",
    "    csv_reader = csv.reader(csv_file, delimiter=',')\n",
    "    line_count = 0\n",
    "    for row in csv_reader:\n",
    "        if line_count == 0:\n",
    "            line_count += 1\n",
    "            continue\n",
    "        else:\n",
    "            line_count += 1\n",
    "            if not row[0] in products_labels:\n",
    "                products_labels[row[0]] = []\n",
    "            for label_index, label_id in enumerate(label_ids):\n",
    "                if label_id == row[2]:\n",
    "                    products_labels[row[0]] += [label_names[label_index]]\n",
    "\n",
    "# load products with main photo\n",
    "products = []\n",
    "with open('./data/photos_sanitized.csv') as csv_file:\n",
    "    csv_reader = csv.reader(csv_file, delimiter=',')\n",
    "    line_count = 0\n",
    "    for row in csv_reader:\n",
    "        if line_count == 0:\n",
    "            print(f'Column names are {\", \".join(row)}')\n",
    "            line_count += 1\n",
    "        else:\n",
    "            line_count += 1\n",
    "            if row[4] != 'Y':\n",
    "                continue\n",
    "            found = False\n",
    "            for product in products:\n",
    "                if product[0] == row[0]:\n",
    "                    found = True\n",
    "                    break\n",
    "            if not found:\n",
    "                products += [(row[0], row[1], row[3], row[4], ), ]\n",
    "    print(f'Processed {line_count} lines.')\n",
    "    print(f'Found products {products.__len__}.')\n"
   ]
  },
  {
   "cell_type": "code",
   "execution_count": 5,
   "metadata": {},
   "outputs": [],
   "source": [
    "import os\n",
    "from os.path import exists\n",
    "from PIL import Image\n",
    "import imghdr\n",
    "\n",
    "# prepare data for dataset\n",
    "data_photos_paths = []\n",
    "data_labels = []\n",
    "img_type_accepted_by_tf = [\"bmp\", \"gif\", \"jpeg\", \"png\"]\n",
    "for product in products:\n",
    "    tmp_path = f'./data/small/{int(product[0]) % 10}/{product[0]}/{product[0]}_{product[1]}_{product[3]}_{product[2]}_small.webp'\n",
    "    tmp_path_jpg = f'./data/small/{int(product[0]) % 10}/{product[0]}/{product[0]}_{product[1]}_{product[3]}_{product[2]}_small.jpg'\n",
    "    if not exists(tmp_path):\n",
    "        continue\n",
    "    if not exists(tmp_path_jpg) and os.stat(tmp_path).st_size == 0:\n",
    "        print(f'Empty file: {tmp_path}')\n",
    "        continue\n",
    "    if not exists(tmp_path_jpg):\n",
    "        im = Image.open(tmp_path).convert('RGB')\n",
    "        im.save(tmp_path_jpg, \"jpeg\")\n",
    "\n",
    "    img_type = imghdr.what(tmp_path_jpg)\n",
    "    if img_type is None:\n",
    "        print(f\"{tmp_path_jpg} is not an image\")\n",
    "        continue\n",
    "\n",
    "    data_photos_paths += [tmp_path_jpg]\n",
    "    tmp_product_labels = products_labels[product[0]]\n",
    "    tmp_labels_vector = []\n",
    "    for label in label_names:\n",
    "        tmp_labels_vector += [1 if label in tmp_product_labels else 0]\n",
    "    data_labels += [tmp_labels_vector]\n",
    "    # for label_index, label_name in enumerate(label_names):\n",
    "    #     if label_name == tmp_product_labels[0]:\n",
    "    #         data_labels += [label_index]\n",
    "    #         break\n",
    "\n",
    "# print(', '.join(data_labels[0]))"
   ]
  },
  {
   "cell_type": "markdown",
   "metadata": {},
   "source": [
    "## Prepare train test and validation data"
   ]
  },
  {
   "cell_type": "code",
   "execution_count": 6,
   "metadata": {},
   "outputs": [
    {
     "name": "stderr",
     "output_type": "stream",
     "text": [
      "2022-12-14 11:27:06.854148: I tensorflow/core/platform/cpu_feature_guard.cc:193] This TensorFlow binary is optimized with oneAPI Deep Neural Network Library (oneDNN) to use the following CPU instructions in performance-critical operations:  AVX2 FMA\n",
      "To enable them in other operations, rebuild TensorFlow with the appropriate compiler flags.\n"
     ]
    }
   ],
   "source": [
    "from sklearn.model_selection import train_test_split\n",
    "import tensorflow_io as tfio\n",
    "\n",
    "data_photos_paths_train, data_photos_paths_tmp, data_labels_train, data_labels_tmp = train_test_split(data_photos_paths, data_labels, test_size=0.25, random_state=42)\n",
    "data_photos_paths_test, data_photos_paths_validation, data_labels_test, data_labels_validation = train_test_split(data_photos_paths_tmp, data_labels_tmp, test_size=0.4, random_state=None, shuffle=False)\n",
    "\n",
    "\n",
    "\n",
    "def _create_dataset(X, y):\n",
    "    X = tf.constant(X)\n",
    "    y = tf.constant(y)\n",
    "    dataset = tf.data.Dataset.from_tensor_slices((X, y))\n",
    "\n",
    "    def _prepare_picture_func(picturepath, labels):\n",
    "        image_string = tf.io.read_file(picturepath)\n",
    "        image = tf.image.decode_image(image_string, channels=3)\n",
    "        # print(picturepath)\n",
    "        # image = tfio.image.decode_webp(image_string)\n",
    "        # image = image[:,:,:3] # discard alpha channel\n",
    "        image.set_shape([None, None, None])\n",
    "        image = tf.image.resize(image, [150, 150])\n",
    "        # image = tf.subtract(image, 116.779) # Zero-center by mean pixel\n",
    "        # # image.set_shape([200, 200, 3])\n",
    "        # image.set_shape((250, 250, 3))\n",
    "        image.set_shape((150, 150, 3))\n",
    "        # image = image.reshape(-1, 250, 340, 3)\n",
    "        # image = tf.reverse(image, axis=[2]) # 'RGB'->'BGR'\n",
    "        # d = dict(zip([picturepath], [image])), labels\n",
    "        # return (picturepath, image), labels\n",
    "        return image, labels\n",
    "        # return d\n",
    "    return dataset.map(_prepare_picture_func)\n",
    "\n",
    "train_ds = _create_dataset(data_photos_paths_train, data_labels_train)\n",
    "test_ds = _create_dataset(data_photos_paths_test, data_labels_test)\n",
    "validation_ds = _create_dataset(data_photos_paths_validation, data_labels_validation)"
   ]
  },
  {
   "cell_type": "code",
   "execution_count": 7,
   "metadata": {},
   "outputs": [],
   "source": [
    "# train_batch = train_ds.batch(32)\n",
    "# test_batch = test_ds.batch(32)\n",
    "\n",
    "# # check batch\n",
    "# for image_batch, labels_batch in train_batch:\n",
    "#   print(image_batch.shape)\n",
    "#   print(labels_batch.shape)\n",
    "#   break\n"
   ]
  },
  {
   "cell_type": "markdown",
   "metadata": {},
   "source": [
    "## Create NN model"
   ]
  },
  {
   "cell_type": "code",
   "execution_count": 8,
   "metadata": {},
   "outputs": [],
   "source": [
    "# Disable warnings\n",
    "import warnings\n",
    "warnings.filterwarnings('ignore')\n",
    "\n",
    "from tensorflow import keras\n",
    "from tensorflow.keras import layers\n",
    "from tensorflow.keras.models import Sequential\n",
    "from tensorflow.keras.layers import Dense\n",
    "from keras.models import Sequential\n",
    "from keras.layers import Dense, Dropout, Activation, Flatten\n",
    "from keras.layers import Convolution2D, MaxPooling2D\n",
    "from keras.optimizers import SGD\n",
    "from keras.callbacks import ModelCheckpoint\n",
    "from sklearn.metrics import matthews_corrcoef\n",
    "from sklearn.metrics import hamming_loss\n",
    "import tensorflow as tf\n",
    "tf.compat.v1.enable_eager_execution()\n",
    "\n",
    "\n",
    "# # Initializes a sequential model\n",
    "# model = Sequential()\n",
    "\n",
    "# # First layer (pictures are 240x340=85000 x 3 colors => 255000)\n",
    "# # model.add(Dense(2048, activation='relu', input_shape=(255000, )))\n",
    "# model.add(Dense(2048, activation='relu', input_shape=(250, 250, 3)))\n",
    "# # model.add(Dense(2048, activation='relu', input_shape=(187500, )))\n",
    "# # model.add(Dense(2048, activation='relu', input_dim=187500))\n",
    "\n",
    "# # Second layer\n",
    "# model.add(Dense(256, activation='relu'))\n",
    "\n",
    "# # Output layer (multi-label classification therefore use sigmoid activation function)\n",
    "# model.add(Dense(48, activation='sigmoid'))\n",
    "\n",
    "# model.summary()\n",
    "\n",
    "\n",
    "# num_classes = len(label_names)\n",
    "\n",
    "# model = Sequential([\n",
    "#   layers.Rescaling(1./255, input_shape=(250, 340, 3)),\n",
    "#   layers.Conv2D(250, 3, padding='same', activation='relu'),\n",
    "#   layers.MaxPooling2D(),\n",
    "#   layers.Conv2D(250, 3, padding='same', activation='relu'),\n",
    "#   layers.MaxPooling2D(),\n",
    "#   layers.Conv2D(250, 3, padding='same', activation='relu'),\n",
    "#   layers.MaxPooling2D(),\n",
    "#   layers.Flatten(),\n",
    "#   layers.Dense(128, activation='sigmoid'),\n",
    "#   # layers.Dense(128, activation='relu'),\n",
    "#   layers.Dense(num_classes)\n",
    "#   # layers.Dense(1)\n",
    "# ])\n",
    "\n",
    "model = Sequential()\n",
    "model.add(Convolution2D(32, kernel_size=(3, 3),padding='same',input_shape=(150, 150, 3)))\n",
    "model.add(Activation('relu'))\n",
    "model.add(Convolution2D(32, (3, 3)))\n",
    "model.add(Activation('relu'))\n",
    "model.add(MaxPooling2D(pool_size=(2, 2)))\n",
    "model.add(Dropout(0.25))\n",
    "\n",
    "model.add(Convolution2D(64,(3, 3), padding='same'))\n",
    "model.add(Activation('relu'))\n",
    "model.add(Convolution2D(64, (3, 3)))\n",
    "model.add(Activation('relu'))\n",
    "model.add(MaxPooling2D(pool_size=(2, 2)))\n",
    "model.add(Dropout(0.25))\n",
    "\n",
    "model.add(Flatten())\n",
    "model.add(Dense(512))\n",
    "model.add(Activation('relu'))\n",
    "model.add(Dropout(0.5))\n",
    "model.add(Dense(len(label_names)))\n",
    "model.add(Activation('sigmoid'))\n"
   ]
  },
  {
   "cell_type": "markdown",
   "metadata": {},
   "source": [
    "## Compile NN"
   ]
  },
  {
   "cell_type": "code",
   "execution_count": 9,
   "metadata": {},
   "outputs": [
    {
     "name": "stdout",
     "output_type": "stream",
     "text": [
      "Model: \"sequential\"\n",
      "_________________________________________________________________\n",
      " Layer (type)                Output Shape              Param #   \n",
      "=================================================================\n",
      " conv2d (Conv2D)             (None, 150, 150, 32)      896       \n",
      "                                                                 \n",
      " activation (Activation)     (None, 150, 150, 32)      0         \n",
      "                                                                 \n",
      " conv2d_1 (Conv2D)           (None, 148, 148, 32)      9248      \n",
      "                                                                 \n",
      " activation_1 (Activation)   (None, 148, 148, 32)      0         \n",
      "                                                                 \n",
      " max_pooling2d (MaxPooling2D  (None, 74, 74, 32)       0         \n",
      " )                                                               \n",
      "                                                                 \n",
      " dropout (Dropout)           (None, 74, 74, 32)        0         \n",
      "                                                                 \n",
      " conv2d_2 (Conv2D)           (None, 74, 74, 64)        18496     \n",
      "                                                                 \n",
      " activation_2 (Activation)   (None, 74, 74, 64)        0         \n",
      "                                                                 \n",
      " conv2d_3 (Conv2D)           (None, 72, 72, 64)        36928     \n",
      "                                                                 \n",
      " activation_3 (Activation)   (None, 72, 72, 64)        0         \n",
      "                                                                 \n",
      " max_pooling2d_1 (MaxPooling  (None, 36, 36, 64)       0         \n",
      " 2D)                                                             \n",
      "                                                                 \n",
      " dropout_1 (Dropout)         (None, 36, 36, 64)        0         \n",
      "                                                                 \n",
      " flatten (Flatten)           (None, 82944)             0         \n",
      "                                                                 \n",
      " dense (Dense)               (None, 512)               42467840  \n",
      "                                                                 \n",
      " activation_4 (Activation)   (None, 512)               0         \n",
      "                                                                 \n",
      " dropout_2 (Dropout)         (None, 512)               0         \n",
      "                                                                 \n",
      " dense_1 (Dense)             (None, 48)                24624     \n",
      "                                                                 \n",
      " activation_5 (Activation)   (None, 48)                0         \n",
      "                                                                 \n",
      "=================================================================\n",
      "Total params: 42,558,032\n",
      "Trainable params: 42,558,032\n",
      "Non-trainable params: 0\n",
      "_________________________________________________________________\n"
     ]
    }
   ],
   "source": [
    "# multi-label classification therefore use binary_crossentropy\n",
    "# model.compile(optimizer='adam', loss='binary_crossentropy', metrics=['accuracy'])\n",
    "# model.compile(optimizer='adam', loss='binary_crossentropy', metrics=['accuracy'], run_eagerly=True)\n",
    "\n",
    "# model.compile(optimizer='adam',\n",
    "#               loss=tf.keras.losses.CategoricalCrossentropy(from_logits=True),\n",
    "#               metrics=['accuracy'])\n",
    "\n",
    "# model.compile(optimizer='adam',\n",
    "#               loss=tf.keras.losses.BinaryCrossentropy(from_logits=True),\n",
    "#               metrics=['accuracy'],\n",
    "#               run_eagerly=True)\n",
    "\n",
    "sgd = SGD(lr=0.01, decay=1e-6, momentum=0.9, nesterov=True)\n",
    "model.compile(loss='binary_crossentropy', optimizer=sgd, metrics=['accuracy'])\n",
    "\n",
    "model.summary()"
   ]
  },
  {
   "cell_type": "markdown",
   "metadata": {},
   "source": [
    "## Use NN for data"
   ]
  },
  {
   "cell_type": "code",
   "execution_count": 10,
   "metadata": {},
   "outputs": [
    {
     "name": "stdout",
     "output_type": "stream",
     "text": [
      "Epoch 1/2\n",
      "181/181 [==============================] - ETA: 0s - loss: 12539.5820 - accuracy: 0.0817\n",
      "Epoch 1: val_loss improved from inf to 0.48180, saving model to model.h5\n",
      "181/181 [==============================] - 105s 577ms/step - loss: 12539.5820 - accuracy: 0.0817 - val_loss: 0.4818 - val_accuracy: 0.0440 - lr: 0.0100\n",
      "Epoch 2/2\n",
      "181/181 [==============================] - ETA: 0s - loss: 0.4671 - accuracy: 0.0793\n",
      "Epoch 2: val_loss improved from 0.48180 to 0.37090, saving model to model.h5\n",
      "181/181 [==============================] - 104s 574ms/step - loss: 0.4671 - accuracy: 0.0793 - val_loss: 0.3709 - val_accuracy: 0.0000e+00 - lr: 0.0100\n"
     ]
    }
   ],
   "source": [
    "from keras.callbacks import EarlyStopping, ModelCheckpoint, ReduceLROnPlateau\n",
    "\n",
    "callbacks = [\n",
    "    EarlyStopping(patience=10, verbose=1),\n",
    "    ReduceLROnPlateau(factor=0.1, patience=3, min_lr=0.00001, verbose=1),\n",
    "    ModelCheckpoint('model.h5', verbose=1, save_best_only=True, save_weights_only=True)\n",
    "]\n",
    "\n",
    "# model.fit_generator(\n",
    "#         train_batch, \n",
    "#         steps_per_epoch=len(train_batch), # batch_size\n",
    "#         validation_data=test_batch,\n",
    "#         validation_steps=len(test_batch), # batch_size\n",
    "#         epochs=10,\n",
    "#         callbacks=callbacks\n",
    "#     )\n",
    "# epochs=10\n",
    "# history = model.fit(\n",
    "#   train_ds,\n",
    "#   validation_data=validation_ds,\n",
    "#   epochs=epochs\n",
    "# )\n",
    "epochs=2\n",
    "history = model.fit(\n",
    "  train_ds.batch(32),\n",
    "  validation_data=validation_ds.batch(32),\n",
    "  epochs=epochs,\n",
    "  callbacks=callbacks\n",
    ")"
   ]
  },
  {
   "cell_type": "markdown",
   "metadata": {},
   "source": [
    "## Visualize training"
   ]
  },
  {
   "cell_type": "code",
   "execution_count": 11,
   "metadata": {},
   "outputs": [
    {
     "data": {
      "image/png": "[encoded data removed]",
      "text/plain": [
       "<Figure size 800x800 with 2 Axes>"
      ]
     },
     "metadata": {},
     "output_type": "display_data"
    }
   ],
   "source": [
    "import matplotlib.pyplot as plt\n",
    "\n",
    "acc = history.history['accuracy']\n",
    "val_acc = history.history['val_accuracy']\n",
    "\n",
    "loss = history.history['loss']\n",
    "val_loss = history.history['val_loss']\n",
    "\n",
    "epochs_range = range(epochs)\n",
    "\n",
    "plt.figure(figsize=(8, 8))\n",
    "plt.subplot(1, 2, 1)\n",
    "plt.plot(epochs_range, acc, label='Training Accuracy')\n",
    "plt.plot(epochs_range, val_acc, label='Validation Accuracy')\n",
    "plt.legend(loc='lower right')\n",
    "plt.title('Training and Validation Accuracy')\n",
    "\n",
    "plt.subplot(1, 2, 2)\n",
    "plt.plot(epochs_range, loss, label='Training Loss')\n",
    "plt.plot(epochs_range, val_loss, label='Validation Loss')\n",
    "plt.legend(loc='upper right')\n",
    "plt.title('Training and Validation Loss')\n",
    "plt.show()"
   ]
  },
  {
   "cell_type": "markdown",
   "metadata": {},
   "source": [
    "## Try prediction"
   ]
  },
  {
   "cell_type": "code",
   "execution_count": 12,
   "metadata": {},
   "outputs": [],
   "source": [
    "# from PIL import Image\n",
    "\n",
    "# Image.open(data_photos_paths_validation[0])\n",
    "# # PIL.Image.open(str(data_photos_paths_validation[0]))\n",
    "# print('Expected: ', data_labels_validation[0])\n",
    "# print('Predicted: ', model.predict(data_photos_paths_validation[0]))"
   ]
  }
 ],
 "metadata": {
  "kernelspec": {
   "display_name": "Python 3.10.8 64-bit",
   "language": "python",
   "name": "python3"
  },
  "language_info": {
   "codemirror_mode": {
    "name": "ipython",
    "version": 3
   },
   "file_extension": ".py",
   "mimetype": "text/x-python",
   "name": "python",
   "nbconvert_exporter": "python",
   "pygments_lexer": "ipython3",
   "version": "3.10.8"
  },
  "orig_nbformat": 4,
  "vscode": {
   "interpreter": {
    "hash": "e7370f93d1d0cde622a1f8e1c04877d8463912d04d973331ad4851f04de6915a"
   }
  }
 },
 "nbformat": 4,
 "nbformat_minor": 2
}
